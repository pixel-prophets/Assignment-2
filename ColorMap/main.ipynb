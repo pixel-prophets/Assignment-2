{
 "cells": [
  {
   "cell_type": "code",
   "execution_count": 1,
   "id": "34a0a986",
   "metadata": {},
   "outputs": [],
   "source": [
    "import numpy as np\n",
    "import pandas as pd\n",
    "import netCDF4 as nc\n",
    "import matplotlib.pyplot as plt\n",
    "import matplotlib.colors as mcolors\n",
    "import imageio\n",
    "from matplotlib.colors import ListedColormap\n",
    "from PIL import Image\n",
    "from matplotlib.colors import LogNorm\n",
    "from matplotlib.colors import Normalize\n",
    "from matplotlib.colors import BoundaryNorm\n",
    "from mpl_toolkits.basemap import Basemap\n",
    "import os"
   ]
  },
  {
   "cell_type": "code",
   "execution_count": 2,
   "id": "18d8fe6c",
   "metadata": {},
   "outputs": [],
   "source": [
    "# defining the path to file  \n",
    "FILE_PATH = 'data/colormap-data/01-jul-1.nc'    "
   ]
  },
  {
   "cell_type": "code",
   "execution_count": 3,
   "metadata": {},
   "outputs": [],
   "source": [
    "dSet = nc.Dataset(FILE_PATH)"
   ]
  },
  {
   "cell_type": "code",
   "execution_count": 4,
   "id": "88fa2913",
   "metadata": {},
   "outputs": [
    {
     "data": {
      "text/plain": [
       "{'lon': <class 'netCDF4._netCDF4.Dimension'>: name = 'lon', size = 1440,\n",
       " 'lat': <class 'netCDF4._netCDF4.Dimension'>: name = 'lat', size = 720,\n",
       " 'time': <class 'netCDF4._netCDF4.Dimension'> (unlimited): name = 'time', size = 1,\n",
       " 'bnds': <class 'netCDF4._netCDF4.Dimension'>: name = 'bnds', size = 2}"
      ]
     },
     "execution_count": 4,
     "metadata": {},
     "output_type": "execute_result"
    }
   ],
   "source": [
    "dSet.dimensions"
   ]
  },
  {
   "cell_type": "code",
   "execution_count": 5,
   "id": "51337cdd",
   "metadata": {},
   "outputs": [
    {
     "data": {
      "text/plain": [
       "dict_keys(['lon', 'lat', 'time', 'time_bnds', 'wind_speed_AW'])"
      ]
     },
     "execution_count": 5,
     "metadata": {},
     "output_type": "execute_result"
    }
   ],
   "source": [
    "dSet.variables.keys()"
   ]
  },
  {
   "cell_type": "code",
   "execution_count": 6,
   "id": "d5c40db1",
   "metadata": {},
   "outputs": [],
   "source": [
    "data = dSet['wind_speed_AW'][:]"
   ]
  },
  {
   "cell_type": "code",
   "execution_count": 7,
   "id": "c77e8f47",
   "metadata": {},
   "outputs": [
    {
     "name": "stdout",
     "output_type": "stream",
     "text": [
      "Shape before squeezing: (1, 720, 1440)\n",
      "Shape after squeezing: (720, 1440)\n"
     ]
    }
   ],
   "source": [
    "print(\"Shape before squeezing:\", data.shape)\n",
    "data = np.squeeze(data)\n",
    "print(\"Shape after squeezing:\", data.shape)"
   ]
  },
  {
   "cell_type": "code",
   "execution_count": 8,
   "id": "5f7cf7ed",
   "metadata": {},
   "outputs": [],
   "source": [
    "longitudes = dSet[\"lon\"][:].data\n",
    "latitudes = dSet[\"lat\"][:].data"
   ]
  },
  {
   "cell_type": "code",
   "execution_count": 9,
   "id": "9ee9f3ad",
   "metadata": {},
   "outputs": [],
   "source": [
    "data[data < 0] = np.nan"
   ]
  },
  {
   "cell_type": "code",
   "execution_count": 10,
   "metadata": {},
   "outputs": [
    {
     "data": {
      "text/plain": [
       "15"
      ]
     },
     "execution_count": 10,
     "metadata": {},
     "output_type": "execute_result"
    }
   ],
   "source": [
    "len(data[data > 30] == True)"
   ]
  },
  {
   "cell_type": "code",
   "execution_count": 11,
   "id": "5e54b32c",
   "metadata": {},
   "outputs": [
    {
     "data": {
      "text/plain": [
       "\"\\n'Accent', 'Accent_r', 'Blues', 'Blues_r', 'BrBG', 'BrBG_r', 'BuGn', 'BuGn_r', 'BuPu', 'BuPu_r', 'CMRmap', 'CMRmap_r', 'Dark2', 'Dark2_r', 'GnBu', 'GnBu_r', 'Greens', 'Greens_r', 'Greys', 'Greys_r', 'OrRd', 'OrRd_r', 'Oranges', 'Oranges_r', 'PRGn', 'PRGn_r', 'Paired', 'Paired_r', 'Pastel1', 'Pastel1_r', 'Pastel2', 'Pastel2_r', 'PiYG', 'PiYG_r', 'PuBu', 'PuBuGn', 'PuBuGn_r', 'PuBu_r', 'PuOr', 'PuOr_r', 'PuRd', 'PuRd_r', 'Purples', 'Purples_r', 'RdBu', 'RdBu_r', 'RdGy', 'RdGy_r', 'RdPu', 'RdPu_r', 'RdYlBu', 'RdYlBu_r', 'RdYlGn', 'RdYlGn_r', 'Reds', 'Reds_r', 'Set1', 'Set1_r', 'Set2', 'Set2_r', 'Set3', 'Set3_r', 'Spectral', 'Spectral_r', 'Wistia', 'Wistia_r', 'YlGn', 'YlGnBu', 'YlGnBu_r', 'YlGn_r', 'YlOrBr', 'YlOrBr_r', 'YlOrRd', 'YlOrRd_r', 'afmhot', 'afmhot_r', 'autumn', 'autumn_r', 'binary', 'binary_r', 'bone', 'bone_r', 'brg', 'brg_r', 'bwr', 'bwr_r', 'cividis', 'cividis_r', 'cool', 'cool_r', 'coolwarm', 'coolwarm_r', 'copper', 'copper_r', 'cubehelix', 'cubehelix_r', 'flag', 'flag_r', 'gist_earth', 'gist_earth_r', 'gist_gray', 'gist_gray_r', 'gist_heat', 'gist_heat_r', 'gist_ncar', 'gist_ncar_r', 'gist_rainbow', 'gist_rainbow_r', 'gist_stern', 'gist_stern_r', 'gist_yarg', 'gist_yarg_r', 'gnuplot', 'gnuplot2', 'gnuplot2_r', 'gnuplot_r', 'gray', 'gray_r', 'hot', 'hot_r', 'hsv', 'hsv_r', 'inferno', 'inferno_r', 'jet', 'jet_r', 'magma', 'magma_r', 'nipy_spectral', 'nipy_spectral_r', 'ocean', 'ocean_r', 'pink', 'pink_r', 'plasma', 'plasma_r', 'prism', 'prism_r', 'rainbow', 'rainbow_r', 'seismic', 'seismic_r', 'spring', 'spring_r', 'summer', 'summer_r', 'tab10', 'tab10_r', 'tab20', 'tab20_r', 'tab20b', 'tab20b_r', 'tab20c', 'tab20c_r', 'terrain', 'terrain_r', 'turbo', 'turbo_r', 'twilight', 'twilight_r', 'twilight_shifted', 'twilight_shifted_r', 'viridis', 'viridis_r', 'winter', 'winter_r'\\n\""
      ]
     },
     "execution_count": 11,
     "metadata": {},
     "output_type": "execute_result"
    }
   ],
   "source": [
    "# conda install -c anaconda basemap\n",
    "\"\"\"\n",
    "'Accent', 'Accent_r', 'Blues', 'Blues_r', 'BrBG', 'BrBG_r', 'BuGn', 'BuGn_r', 'BuPu', 'BuPu_r', 'CMRmap', 'CMRmap_r', 'Dark2', 'Dark2_r', 'GnBu', 'GnBu_r', 'Greens', 'Greens_r', 'Greys', 'Greys_r', 'OrRd', 'OrRd_r', 'Oranges', 'Oranges_r', 'PRGn', 'PRGn_r', 'Paired', 'Paired_r', 'Pastel1', 'Pastel1_r', 'Pastel2', 'Pastel2_r', 'PiYG', 'PiYG_r', 'PuBu', 'PuBuGn', 'PuBuGn_r', 'PuBu_r', 'PuOr', 'PuOr_r', 'PuRd', 'PuRd_r', 'Purples', 'Purples_r', 'RdBu', 'RdBu_r', 'RdGy', 'RdGy_r', 'RdPu', 'RdPu_r', 'RdYlBu', 'RdYlBu_r', 'RdYlGn', 'RdYlGn_r', 'Reds', 'Reds_r', 'Set1', 'Set1_r', 'Set2', 'Set2_r', 'Set3', 'Set3_r', 'Spectral', 'Spectral_r', 'Wistia', 'Wistia_r', 'YlGn', 'YlGnBu', 'YlGnBu_r', 'YlGn_r', 'YlOrBr', 'YlOrBr_r', 'YlOrRd', 'YlOrRd_r', 'afmhot', 'afmhot_r', 'autumn', 'autumn_r', 'binary', 'binary_r', 'bone', 'bone_r', 'brg', 'brg_r', 'bwr', 'bwr_r', 'cividis', 'cividis_r', 'cool', 'cool_r', 'coolwarm', 'coolwarm_r', 'copper', 'copper_r', 'cubehelix', 'cubehelix_r', 'flag', 'flag_r', 'gist_earth', 'gist_earth_r', 'gist_gray', 'gist_gray_r', 'gist_heat', 'gist_heat_r', 'gist_ncar', 'gist_ncar_r', 'gist_rainbow', 'gist_rainbow_r', 'gist_stern', 'gist_stern_r', 'gist_yarg', 'gist_yarg_r', 'gnuplot', 'gnuplot2', 'gnuplot2_r', 'gnuplot_r', 'gray', 'gray_r', 'hot', 'hot_r', 'hsv', 'hsv_r', 'inferno', 'inferno_r', 'jet', 'jet_r', 'magma', 'magma_r', 'nipy_spectral', 'nipy_spectral_r', 'ocean', 'ocean_r', 'pink', 'pink_r', 'plasma', 'plasma_r', 'prism', 'prism_r', 'rainbow', 'rainbow_r', 'seismic', 'seismic_r', 'spring', 'spring_r', 'summer', 'summer_r', 'tab10', 'tab10_r', 'tab20', 'tab20_r', 'tab20b', 'tab20b_r', 'tab20c', 'tab20c_r', 'terrain', 'terrain_r', 'turbo', 'turbo_r', 'twilight', 'twilight_r', 'twilight_shifted', 'twilight_shifted_r', 'viridis', 'viridis_r', 'winter', 'winter_r'\n",
    "\"\"\""
   ]
  },
  {
   "cell_type": "markdown",
   "metadata": {},
   "source": [
    "### Plot function"
   ]
  },
  {
   "cell_type": "code",
   "execution_count": 12,
   "metadata": {},
   "outputs": [],
   "source": [
    "def plotWorldMap(dataPath, norm, cmap, title, filename=\"\"):\n",
    "    dSet = nc.Dataset(dataPath)\n",
    "    data = dSet['wind_speed_AW'][:]\n",
    "    data = np.squeeze(data)\n",
    "    longitudes = dSet[\"lon\"][:].data\n",
    "    latitudes = dSet[\"lat\"][:].data\n",
    "    data[data < 0] = np.nan\n",
    "\n",
    "    \n",
    "    # Create a Basemap instance for the world map\n",
    "    m = Basemap(projection='cyl', resolution='c', llcrnrlat=-90, urcrnrlat=90, llcrnrlon=0, urcrnrlon=360)\n",
    "\n",
    "    # Create a figure and axis\n",
    "    fig = plt.figure(figsize=(12, 8))\n",
    "    ax = fig.add_subplot(1, 1, 1)\n",
    "\n",
    "    # Draw the coastlines and countries\n",
    "    m.drawcoastlines()\n",
    "    m.drawcountries()\n",
    "\n",
    "    # Convert longitudes and latitudes to map coordinates\n",
    "    x, y = np.meshgrid(longitudes, latitudes)\n",
    "    x, y = m(x, y)\n",
    "\n",
    "\n",
    "    # Create the color plot (heatmap)\n",
    "    cax = ax.pcolormesh(x, y, data, cmap=cmap, shading='auto', norm=norm)\n",
    "\n",
    "    # Add a colorbar\n",
    "    cbar = fig.colorbar(cax)\n",
    "    cbar.set_label('Wind Speed (m/s)')\n",
    "\n",
    "    # Add labels and title\n",
    "    ax.set_xlabel('longitudes')\n",
    "    ax.set_ylabel('latitudes')\n",
    "    ax.set_title(title)\n",
    "\n",
    "    # Save or show the plot based on the filename parameter\n",
    "    if filename != \"\":\n",
    "        # Extract the directory path from the filename\n",
    "        directory = os.path.dirname(filename)\n",
    "\n",
    "        # Check if the directory exists, if not, create it\n",
    "        if not os.path.exists(directory):\n",
    "            os.makedirs(directory)\n",
    "\n",
    "        # Save the plot\n",
    "        plt.savefig(filename)\n",
    "        plt.close()\n",
    "    # plt.show()"
   ]
  },
  {
   "cell_type": "code",
   "execution_count": 13,
   "metadata": {},
   "outputs": [],
   "source": [
    "def get_file_names(directory_path):\n",
    "    # Check if the directory exists\n",
    "    if not os.path.exists(directory_path):\n",
    "        print(f\"The directory '{directory_path}' does not exist.\")\n",
    "        return []\n",
    "\n",
    "    # Get the list of files in the directory\n",
    "    file_names = os.listdir(directory_path)\n",
    "\n",
    "    return file_names"
   ]
  },
  {
   "cell_type": "code",
   "execution_count": 14,
   "metadata": {},
   "outputs": [],
   "source": [
    "colors = [\n",
    "    'viridis',\n",
    "    'cividis',\n",
    "    'coolwarm',\n",
    "    'Spectral'\n",
    "]"
   ]
  },
  {
   "cell_type": "code",
   "execution_count": 15,
   "metadata": {},
   "outputs": [],
   "source": [
    "boundaries = [0, 5, 10, 15, 20, 25, 30]\n",
    "cmap = plt.cm.viridis  # Use viridis as a base colormap\n",
    "discrete_cmap = ListedColormap(cmap(np.linspace(0, 1, len(boundaries)-1)))\n",
    "\n",
    "norms = [\n",
    "    {\"norm\": Normalize(vmax=30), \"name\": \"Normalize\"},\n",
    "    {\"norm\": BoundaryNorm(boundaries=boundaries, ncolors=len(boundaries)-1), \"name\": \"Boundary\"},\n",
    "    {\"norm\": LogNorm(vmax=30), \"name\": \"LogNorm\"}\n",
    "]"
   ]
  },
  {
   "cell_type": "code",
   "execution_count": 16,
   "metadata": {},
   "outputs": [],
   "source": [
    "filesNames = get_file_names(\"./data/colormap-data\")"
   ]
  },
  {
   "cell_type": "code",
   "execution_count": 18,
   "metadata": {},
   "outputs": [],
   "source": [
    "for file in filesNames:\n",
    "    for norm in norms:\n",
    "        normAct = norm['norm']\n",
    "        normName = norm['name']\n",
    "        for color in colors:\n",
    "            filepath = f'images/{normName}/{color}/{file}.png'\n",
    "            dataPath = f'data/colormap-data/{file}'\n",
    "            tmp = (file.split(\".\")[0].split(\"-\"))[1:]\n",
    "            tmp[0] = tmp[0].capitalize()\n",
    "            date = \" \".join(tmp)\n",
    "            if(normName == \"Boundary\"):\n",
    "                plotWorldMap(dataPath, normAct, discrete_cmap, f\"ASMR2 Color map({color}) for {date}\", filepath)\n",
    "            else:\n",
    "                plotWorldMap(dataPath, normAct, color, f\"ASMR2 Color map({color}) for {date}\", filepath)\n"
   ]
  },
  {
   "cell_type": "code",
   "execution_count": 19,
   "metadata": {},
   "outputs": [],
   "source": [
    "def create_gif(image_dir, output_path_file, frame_duration=200):\n",
    "    \"\"\"\n",
    "    Create a GIF from images in a directory using Pillow.\n",
    "\n",
    "    Parameters:\n",
    "        image_dir (str): Directory containing image files.\n",
    "        output_path_file (str): Output GIF filename.\n",
    "        frame_duration (int, optional): Time each frame appears in milliseconds. Default is 200.\n",
    "    \"\"\"\n",
    "    # List all images in the directory\n",
    "    image_files = sorted([file for file in os.listdir(image_dir) if file.endswith('.png')])\n",
    "\n",
    "    # Create a list to store image paths\n",
    "    image_paths = [os.path.join(image_dir, file) for file in image_files]\n",
    "\n",
    "    # Create a list to store image objects\n",
    "    images = []\n",
    "\n",
    "    # Load each image and append it to the list\n",
    "    for image_path in image_paths:\n",
    "        img = Image.open(image_path)\n",
    "        images.append(img)\n",
    "\n",
    "    # Specify the output GIF filename\n",
    "    directory = os.path.dirname(output_path_file)\n",
    "    if not os.path.exists(directory):\n",
    "        os.makedirs(directory)\n",
    "\n",
    "    # Save the list of images as a GIF using Pillow\n",
    "    images[0].save(output_path_file, save_all=True, append_images=images[1:], duration=frame_duration, loop=0)\n",
    "\n",
    "    print(f'GIF created: {output_path_file}')"
   ]
  },
  {
   "cell_type": "code",
   "execution_count": 20,
   "metadata": {},
   "outputs": [
    {
     "name": "stdout",
     "output_type": "stream",
     "text": [
      "GIF created: gifs/Normalize/viridis.gif\n",
      "GIF created: gifs/Normalize/cividis.gif\n",
      "GIF created: gifs/Normalize/coolwarm.gif\n",
      "GIF created: gifs/Normalize/Spectral.gif\n",
      "GIF created: gifs/Boundary/viridis.gif\n",
      "GIF created: gifs/Boundary/cividis.gif\n",
      "GIF created: gifs/Boundary/coolwarm.gif\n",
      "GIF created: gifs/Boundary/Spectral.gif\n",
      "GIF created: gifs/LogNorm/viridis.gif\n",
      "GIF created: gifs/LogNorm/cividis.gif\n",
      "GIF created: gifs/LogNorm/coolwarm.gif\n",
      "GIF created: gifs/LogNorm/Spectral.gif\n"
     ]
    }
   ],
   "source": [
    "for norm in norms:\n",
    "    normAct = norm['norm']\n",
    "    normName = norm['name']\n",
    "    for color in colors:\n",
    "        folderPath = f'images/{normName}/{color}'\n",
    "        outputPath = f'gifs/{normName}/{color}.gif'\n",
    "        create_gif(folderPath, outputPath)\n"
   ]
  }
 ],
 "metadata": {
  "kernelspec": {
   "display_name": "Python 3 (ipykernel)",
   "language": "python",
   "name": "python3"
  },
  "language_info": {
   "codemirror_mode": {
    "name": "ipython",
    "version": 3
   },
   "file_extension": ".py",
   "mimetype": "text/x-python",
   "name": "python",
   "nbconvert_exporter": "python",
   "pygments_lexer": "ipython3",
   "version": "3.11.0"
  }
 },
 "nbformat": 4,
 "nbformat_minor": 5
}
