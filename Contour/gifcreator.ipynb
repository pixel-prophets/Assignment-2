{
 "cells": [
  {
   "cell_type": "code",
   "execution_count": 1,
   "metadata": {},
   "outputs": [],
   "source": [
    "import os"
   ]
  },
  {
   "cell_type": "code",
   "execution_count": 3,
   "metadata": {},
   "outputs": [
    {
     "data": {
      "text/plain": [
       "['01-01-jul.png',\n",
       " '02-07-jul.png',\n",
       " '03-14-jul.png',\n",
       " '04-21-jul.png',\n",
       " '05-28-jul.png',\n",
       " '06-01-aug.png',\n",
       " '07-07-aug.png',\n",
       " '08-14-aug.png',\n",
       " '09-21-aug.png',\n",
       " '10-28-aug.png',\n",
       " '11-01-sept.png',\n",
       " '12-07-sept.png',\n",
       " '12-14-sept.png']"
      ]
     },
     "execution_count": 3,
     "metadata": {},
     "output_type": "execute_result"
    }
   ],
   "source": [
    "filenames = os.listdir('./images')\n",
    "filenames"
   ]
  },
  {
   "cell_type": "code",
   "execution_count": 10,
   "metadata": {},
   "outputs": [
    {
     "name": "stderr",
     "output_type": "stream",
     "text": [
      "C:\\Users\\subha\\AppData\\Local\\Temp\\ipykernel_3136\\2843796799.py:4: DeprecationWarning: Starting with ImageIO v3 the behavior of this function will switch to that of iio.v3.imread. To keep the current behavior (and make this warning disappear) use `import imageio.v2 as imageio` or call `imageio.v2.imread` directly.\n",
      "  images.append(imageio.imread(f\"./images/{filename}\"))\n"
     ]
    }
   ],
   "source": [
    "import imageio\n",
    "images = []\n",
    "for filename in filenames:\n",
    "    images.append(imageio.imread(f\"./images/{filename}\"))\n",
    "imageio.mimsave('movie.gif', images, format='GIF', fps = 1)"
   ]
  }
 ],
 "metadata": {
  "kernelspec": {
   "display_name": "dv",
   "language": "python",
   "name": "python3"
  },
  "language_info": {
   "codemirror_mode": {
    "name": "ipython",
    "version": 3
   },
   "file_extension": ".py",
   "mimetype": "text/x-python",
   "name": "python",
   "nbconvert_exporter": "python",
   "pygments_lexer": "ipython3",
   "version": "3.10.12"
  }
 },
 "nbformat": 4,
 "nbformat_minor": 2
}
